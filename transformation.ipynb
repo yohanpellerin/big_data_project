{
 "cells": [
  {
   "cell_type": "code",
   "execution_count": 31,
   "id": "cfa98773",
   "metadata": {},
   "outputs": [
    {
     "data": {
      "text/plain": [
       "spark = org.apache.spark.sql.SparkSession@2891bb75\n"
      ]
     },
     "metadata": {},
     "output_type": "display_data"
    },
    {
     "data": {
      "text/plain": [
       "org.apache.spark.sql.SparkSession@2891bb75"
      ]
     },
     "execution_count": 31,
     "metadata": {},
     "output_type": "execute_result"
    }
   ],
   "source": [
    "import org.apache.spark.sql.SparkSession\n",
    "import org.apache.spark.sql.Dataset\n",
    "import org.apache.spark.sql.DataFrame\n",
    "import org.apache.spark.sql.Row\n",
    "import org.apache.spark.sql.types._\n",
    "import org.apache.spark.sql.functions._\n",
    "\n",
    "val spark = SparkSession.builder()\n",
    "  .appName(\"Création de Dataset à partir d'un fichier CSV\")\n",
    "  .getOrCreate()\n",
    "\n"
   ]
  },
  {
   "cell_type": "code",
   "execution_count": 32,
   "id": "72de4c05",
   "metadata": {},
   "outputs": [
    {
     "data": {
      "text/plain": [
       "defined class Song\n"
      ]
     },
     "metadata": {},
     "output_type": "display_data"
    }
   ],
   "source": [
    "case class Song(Artist: String, TrackName: String, TrackId: String, TimesRepeated: Float, acousticness: Float, danceability: Float, energy: Float, instrumentalness: Float, key: Float, liveness: Float, loudness: Float, mode: Float, speechness: Float, tempo: Float, valence: Float, release_date: String)"
   ]
  },
  {
   "cell_type": "code",
   "execution_count": 33,
   "id": "4d8a48f9",
   "metadata": {},
   "outputs": [
    {
     "data": {
      "text/plain": [
       "customSchema = StructType(StructField(Artist,StringType,true),StructField(TrackName,StringType,true),StructField(TrackId,StringType,true),StructField(TimesRepeated,FloatType,true),StructField(acousticness,FloatType,true),StructField(danceability,FloatType,true),StructField(energy,FloatType,true),StructField(instrumentalness,FloatType,true),StructField(key,FloatType,true),StructField(liveness,FloatType,true),StructField(loudness,FloatType,true),StructField(mode,FloatType,true),StructField(speechness,FloatType,true),StructField(tempo,FloatType,true),StructField(valence,FloatType,true),StructField(release_date,StringType,true))\n"
      ]
     },
     "metadata": {},
     "output_type": "display_data"
    },
    {
     "data": {
      "text/plain": [
       "StructType(StructField(Artist,StringType,true),StructField(TrackName,StringType,true),StructField(TrackId,StringType,true),StructField(TimesRepeated,FloatType,true),StructField(acousticness,FloatType,true),StructField(danceability,FloatType,true),StructField(energy,FloatType,true),StructField(instrumentalness,FloatType,true),StructField(key,FloatType,true),StructField(liveness,FloatType,true),StructField(loudness,FloatType,true),StructField(mode,FloatType,true),StructField(speechness,FloatType,true),StructField(tempo,FloatType,true),StructField(valence,FloatType,true),StructField(release_date,StringType,true))"
      ]
     },
     "execution_count": 33,
     "metadata": {},
     "output_type": "execute_result"
    }
   ],
   "source": [
    "val customSchema = StructType(Array(\n",
    "  StructField(\"Artist\",StringType,true),\n",
    "  StructField(\"TrackName\",StringType,true),\n",
    "  StructField(\"TrackId\",StringType,true),\n",
    "  StructField(\"TimesRepeated\", FloatType,true),\n",
    "    StructField(\"acousticness\", FloatType,true),\n",
    "    StructField(\"danceability\", FloatType,true),\n",
    "    StructField(\"energy\", FloatType,true),\n",
    "    StructField(\"instrumentalness\", FloatType,true),\n",
    "    StructField(\"key\", FloatType,true),\n",
    "    StructField(\"liveness\", FloatType,true),\n",
    "    StructField(\"loudness\", FloatType,true),\n",
    "    StructField(\"mode\", FloatType,true),\n",
    "    StructField(\"speechness\", FloatType,true),\n",
    "    StructField(\"tempo\", FloatType,true),\n",
    "    StructField(\"valence\", FloatType,true),\n",
    "    StructField(\"release_date\", StringType,true)\n",
    "\n",
    "))"
   ]
  },
  {
   "cell_type": "code",
   "execution_count": 39,
   "id": "f617dbd9",
   "metadata": {},
   "outputs": [
    {
     "data": {
      "text/plain": [
       "resultatFinal = [country: string, avg_TimesRepeated: double ... 13 more fields]\n",
       "list_country = List(egypt, morocco, nigeria, southafrica, india, japan, korea, uae, france, germany, greece, italy, sweden, costarica, canada, mexico, usa, australia, newzealand, argentina, brazil, chile, peru)\n",
       "list_continent = List(africa, africa, africa, africa, asia, asia, asia, asia, europe, europe, europe, europe, europe, north_america, north_america, north_america, north_america, ocenia, ocenia, south_america, south_america, south_america, south_america)\n",
       "countryContinentPairs = List((egypt,africa), (morocco,africa), (nigeria,africa), (southafrica,africa), (india,asia), (japan,asia), (korea,asia), (uae,asia), (france,eur...\n"
      ]
     },
     "metadata": {},
     "output_type": "display_data"
    },
    {
     "data": {
      "text/plain": [
       "List((egypt,africa), (morocco,africa), (nigeria,africa), (southafrica,africa), (india,asia), (japan,asia), (korea,asia), (uae,asia), (france,eur..."
      ]
     },
     "execution_count": 39,
     "metadata": {},
     "output_type": "execute_result"
    }
   ],
   "source": [
    "\n",
    "var resultatFinal: DataFrame = null\n",
    "val list_country = List(\"egypt\", \"morocco\",\"nigeria\",\"southafrica\",\"india\",\"japan\",\"korea\",\"uae\",\"france\",\"germany\",\"greece\",\"italy\",\"sweden\",\"costarica\",\"canada\",\"mexico\",\"usa\",\"australia\",\"newzealand\",\"argentina\",\"brazil\",\"chile\",\"peru\")\n",
    "val list_continent = List(\"africa\", \"africa\",\"africa\",\"africa\",\"asia\",\"asia\",\"asia\",\"asia\",\"europe\",\"europe\",\"europe\",\"europe\",\"europe\",\"north_america\",\"north_america\",\"north_america\",\"north_america\",\"ocenia\",\"ocenia\",\"south_america\",\"south_america\",\"south_america\",\"south_america\")\n",
    "\n",
    "// Créez une liste de paires (pays, continent)\n",
    "val countryContinentPairs = list_country.zip(list_continent)\n",
    "\n",
    "// Définissez une fonction pour rechercher le continent correspondant pour un pays donné\n",
    "def findContinent(country: String): String = {\n",
    "  countryContinentPairs.find { case (c, continent) => c == country }.map(_._2).getOrElse(\"Continent not found\")\n",
    "}\n",
    "\n",
    "for (country <- list_country) {\n",
    "  val continent = findContinent(country)\n",
    "  \n",
    "\n",
    "val table = spark.read.format(\"csv\")\n",
    "  .option(\"sep\", \",\")\n",
    "  .option(\"header\", \"true\")\n",
    "  .schema(customSchema)\n",
    "  .load(\"charts_data_release_dates/\"+\"charts_data_\"+continent+\"/\"+country+\"_chart_data.csv\")\n",
    "\n",
    "//table.schema\n",
    "table.as[Song]\n",
    "val table3 = table.withColumn(\"date\", to_date(table{\"release_date\"}, \"yyyy-MM-dd\"))\n",
    "val table4 = table3.withColumn(\"year\", year(table{\"release_date\"}))\n",
    "val table2=table4.withColumn(\"country\",lit(country))\n",
    "val tableTri = table2.orderBy(desc(\"TimesRepeated\"))\n",
    "val topsong = table2.limit(10)\n",
    "//topsong.collect.foreach(println)\n",
    "    val avgtop= topsong.groupBy(\"country\").agg(avg(\"TimesRepeated\").alias(\"avg_TimesRepeated\"),\n",
    "                        avg(\"acousticness\").alias(\"avg_acousticness\"),\n",
    "                        avg(\"danceability\").alias(\"avg_danceability\"),\n",
    "                        avg(\"energy\").alias(\"avg_energy\"),\n",
    "                        avg(\"instrumentalness\").alias(\"avg_instrumentalness\"),\n",
    "                        avg(\"key\").alias(\"avg_key\"),\n",
    "                        avg(\"liveness\").alias(\"avg_liveness\"),\n",
    "                        avg(\"loudness\").alias(\"avg_loudness\"),\n",
    "                        avg(\"mode\").alias(\"avg_mode\"),\n",
    "                        avg(\"speechness\").alias(\"avg_speechness\"),\n",
    "                        avg(\"tempo\").alias(\"avg_tempo\"),\n",
    "                        avg(\"valence\").alias(\"avg_valence\"),avg(\"year\").alias(\"avg_year\")).withColumn(\"continent\",lit(continent))\n",
    "  //val avgtop2=avgtop.withColumn(\"continent\",lit(continent))  \n",
    "if (resultatFinal == null) {\n",
    "    resultatFinal = avgtop\n",
    "    \n",
    "  } else {\n",
    "    resultatFinal = resultatFinal.union(avgtop)\n",
    "    \n",
    "  }\n",
    "\n",
    "}\n"
   ]
  },
  {
   "cell_type": "code",
   "execution_count": 40,
   "id": "f9769fe1",
   "metadata": {},
   "outputs": [],
   "source": [
    "resultatFinal.write\n",
    ".format(\"csv\")\n",
    "  .option(\"header\", \"true\")// Inclure l'en-tête dans le fichier CSV\n",
    " .mode(\"overwrite\")\n",
    "  .save(\"result\")"
   ]
  },
  {
   "cell_type": "code",
   "execution_count": 41,
   "id": "a89ee65e",
   "metadata": {},
   "outputs": [
    {
     "data": {
      "text/plain": [
       "resultcontinent = [continent: string, avg_TimesRepeated: double ... 12 more fields]\n"
      ]
     },
     "metadata": {},
     "output_type": "display_data"
    },
    {
     "data": {
      "text/plain": [
       "[continent: string, avg_TimesRepeated: double ... 12 more fields]"
      ]
     },
     "execution_count": 41,
     "metadata": {},
     "output_type": "execute_result"
    }
   ],
   "source": [
    "val resultcontinent= resultatFinal.groupBy(\"continent\").agg(avg(\"avg_TimesRepeated\").alias(\"avg_TimesRepeated\"),\n",
    "                        avg(\"avg_acousticness\").alias(\"avg_acousticness\"),\n",
    "                        avg(\"avg_danceability\").alias(\"avg_danceability\"),\n",
    "                        avg(\"avg_energy\").alias(\"avg_energy\"),\n",
    "                        avg(\"avg_instrumentalness\").alias(\"avg_instrumentalness\"),\n",
    "                        avg(\"avg_key\").alias(\"avg_key\"),\n",
    "                        avg(\"avg_liveness\").alias(\"avg_liveness\"),\n",
    "                        avg(\"avg_loudness\").alias(\"avg_loudness\"),\n",
    "                        avg(\"avg_mode\").alias(\"avg_mode\"),\n",
    "                        avg(\"avg_speechness\").alias(\"avg_speechness\"),\n",
    "                        avg(\"avg_tempo\").alias(\"avg_tempo\"),\n",
    "                        avg(\"avg_valence\").alias(\"avg_valence\"),avg(\"avg_year\").alias(\"avg_year\"))"
   ]
  },
  {
   "cell_type": "code",
   "execution_count": 42,
   "id": "f49849d4",
   "metadata": {},
   "outputs": [],
   "source": [
    "resultcontinent.write\n",
    ".format(\"csv\")\n",
    "  .option(\"header\", \"true\")  // Inclure l'en-tête dans le fichier CSV\n",
    " .mode(\"overwrite\")\n",
    "  .save(\"resultcontinent\")"
   ]
  },
  {
   "cell_type": "code",
   "execution_count": null,
   "id": "6ff3d223",
   "metadata": {},
   "outputs": [],
   "source": []
  }
 ],
 "metadata": {
  "kernelspec": {
   "display_name": "Apache Toree - Scala",
   "language": "scala",
   "name": "apache_toree_scala"
  },
  "language_info": {
   "codemirror_mode": "text/x-scala",
   "file_extension": ".scala",
   "mimetype": "text/x-scala",
   "name": "scala",
   "pygments_lexer": "scala",
   "version": "2.12.15"
  }
 },
 "nbformat": 4,
 "nbformat_minor": 5
}
