{
 "cells": [
  {
   "cell_type": "code",
   "execution_count": 13,
   "id": "cfa98773",
   "metadata": {},
   "outputs": [
    {
     "data": {
      "text/plain": [
       "spark = org.apache.spark.sql.SparkSession@7b55f430\n"
      ]
     },
     "metadata": {},
     "output_type": "display_data"
    },
    {
     "data": {
      "text/plain": [
       "org.apache.spark.sql.SparkSession@7b55f430"
      ]
     },
     "execution_count": 13,
     "metadata": {},
     "output_type": "execute_result"
    }
   ],
   "source": [
    "import org.apache.spark.sql.SparkSession\n",
    "import org.apache.spark.sql.Dataset\n",
    "import org.apache.spark.sql.DataFrame\n",
    "import org.apache.spark.sql.Row\n",
    "import org.apache.spark.sql.types._\n",
    "import org.apache.spark.sql.functions._\n",
    "\n",
    "val spark = SparkSession.builder()\n",
    "  .appName(\"Création de Dataset à partir d'un fichier CSV\")\n",
    "  .getOrCreate()\n",
    "\n"
   ]
  },
  {
   "cell_type": "code",
   "execution_count": 14,
   "id": "72de4c05",
   "metadata": {},
   "outputs": [
    {
     "data": {
      "text/plain": [
       "defined class Song\n"
      ]
     },
     "metadata": {},
     "output_type": "display_data"
    }
   ],
   "source": [
    "case class Song(Artist: String, TrackName: String, TrackId: String, TimesRepeated: Float, acousticness: Float, danceability: Float, energy: Float, instrumentalness: Float, key: Float, liveness: Float, loudness: Float, mode: Float, speechness: Float, tempo: Float, valence: Float)"
   ]
  },
  {
   "cell_type": "code",
   "execution_count": 15,
   "id": "4d8a48f9",
   "metadata": {},
   "outputs": [
    {
     "data": {
      "text/plain": [
       "customSchema = StructType(StructField(Artist,StringType,true),StructField(TrackName,StringType,true),StructField(TrackId,StringType,true),StructField(TimesRepeated,FloatType,true),StructField(acousticness,FloatType,true),StructField(danceability,FloatType,true),StructField(energy,FloatType,true),StructField(instrumentalness,FloatType,true),StructField(key,FloatType,true),StructField(liveness,FloatType,true),StructField(loudness,FloatType,true),StructField(mode,FloatType,true),StructField(speechness,FloatType,true),StructField(tempo,FloatType,true),StructField(valence,FloatType,true))\n"
      ]
     },
     "metadata": {},
     "output_type": "display_data"
    },
    {
     "data": {
      "text/plain": [
       "StructType(StructField(Artist,StringType,true),StructField(TrackName,StringType,true),StructField(TrackId,StringType,true),StructField(TimesRepeated,FloatType,true),StructField(acousticness,FloatType,true),StructField(danceability,FloatType,true),StructField(energy,FloatType,true),StructField(instrumentalness,FloatType,true),StructField(key,FloatType,true),StructField(liveness,FloatType,true),StructField(loudness,FloatType,true),StructField(mode,FloatType,true),StructField(speechness,FloatType,true),StructField(tempo,FloatType,true),StructField(valence,FloatType,true))"
      ]
     },
     "execution_count": 15,
     "metadata": {},
     "output_type": "execute_result"
    }
   ],
   "source": [
    "val customSchema = StructType(Array(\n",
    "  StructField(\"Artist\",StringType,true),\n",
    "  StructField(\"TrackName\",StringType,true),\n",
    "  StructField(\"TrackId\",StringType,true),\n",
    "  StructField(\"TimesRepeated\", FloatType,true),\n",
    "    StructField(\"acousticness\", FloatType,true),\n",
    "    StructField(\"danceability\", FloatType,true),\n",
    "    StructField(\"energy\", FloatType,true),\n",
    "    StructField(\"instrumentalness\", FloatType,true),\n",
    "    StructField(\"key\", FloatType,true),\n",
    "    StructField(\"liveness\", FloatType,true),\n",
    "    StructField(\"loudness\", FloatType,true),\n",
    "    StructField(\"mode\", FloatType,true),\n",
    "    StructField(\"speechness\", FloatType,true),\n",
    "    StructField(\"tempo\", FloatType,true),\n",
    "    StructField(\"valence\", FloatType,true)\n",
    "\n",
    "))"
   ]
  },
  {
   "cell_type": "code",
   "execution_count": null,
   "id": "eb94a859",
   "metadata": {},
   "outputs": [],
   "source": []
  },
  {
   "cell_type": "code",
   "execution_count": 35,
   "id": "f617dbd9",
   "metadata": {},
   "outputs": [
    {
     "data": {
      "text/plain": [
       "resultatFinal = [country: string, avgTimesRepeated: double ... 12 more fields]\n",
       "list_country = List(us, se)\n",
       "list_continent = List(North America, Europe)\n",
       "countryContinentPairs = List((us,North America), (se,Europe))\n"
      ]
     },
     "metadata": {},
     "output_type": "display_data"
    },
    {
     "data": {
      "text/plain": [
       "findContinent: (country: String)String\n"
      ]
     },
     "metadata": {},
     "output_type": "display_data"
    },
    {
     "data": {
      "text/plain": [
       "List((us,North America), (se,Europe))"
      ]
     },
     "execution_count": 35,
     "metadata": {},
     "output_type": "execute_result"
    }
   ],
   "source": [
    "\n",
    "var resultatFinal: DataFrame = null\n",
    "val list_country = List(\"us\", \"se\")\n",
    "val list_continent = List(\"North America\", \"Europe\")\n",
    "\n",
    "// Créez une liste de paires (pays, continent)\n",
    "val countryContinentPairs = list_country.zip(list_continent)\n",
    "\n",
    "// Définissez une fonction pour rechercher le continent correspondant pour un pays donné\n",
    "def findContinent(country: String): String = {\n",
    "  countryContinentPairs.find { case (c, continent) => c == country }.map(_._2).getOrElse(\"Continent not found\")\n",
    "}\n",
    "\n",
    "for (country <- list_country) {\n",
    "  val continent = findContinent(country)\n",
    "  \n",
    "\n",
    "val table = spark.read.format(\"csv\")\n",
    "  .option(\"sep\", \",\")\n",
    "  .option(\"header\", \"true\")\n",
    "  .schema(customSchema)\n",
    "  .load(country+\"_chart_data.csv\")\n",
    "\n",
    "//table.schema\n",
    "table.as[Song]\n",
    "val table2=table.withColumn(\"country\",lit(country))\n",
    "val tableTri = table2.orderBy(desc(\"TimesRepeated\"))\n",
    "val topsong = table2.limit(10)\n",
    "//topsong.collect.foreach(println)\n",
    "    val avgtop= topsong.groupBy(\"country\").agg(avg(\"TimesRepeated\").alias(\"avgTimesRepeated\"),\n",
    "                        avg(\"acousticness\").alias(\"avgacousticness\"),\n",
    "                        avg(\"danceability\").alias(\"avgdanceability\"),\n",
    "                        avg(\"energy\").alias(\"avgenergy\"),\n",
    "                        avg(\"instrumentalness\").alias(\"avginstrumentalness\"),\n",
    "                        avg(\"key\").alias(\"avgkey\"),\n",
    "                        avg(\"liveness\").alias(\"avgliveness\"),\n",
    "                        avg(\"loudness\").alias(\"avgloudness\"),\n",
    "                        avg(\"mode\").alias(\"avgmode\"),\n",
    "                        avg(\"speechness\").alias(\"avgspeechness\"),\n",
    "                        avg(\"tempo\").alias(\"avgtempo\"),\n",
    "                        avg(\"valence\").alias(\"avgvalence\")).withColumn(\"continent\",lit(continent))\n",
    "  //val avgtop2=avgtop.withColumn(\"continent\",lit(continent))  \n",
    "if (resultatFinal == null) {\n",
    "    resultatFinal = avgtop\n",
    "    \n",
    "  } else {\n",
    "    resultatFinal = resultatFinal.union(avgtop)\n",
    "    \n",
    "  }\n",
    "\n",
    "}\n"
   ]
  },
  {
   "cell_type": "code",
   "execution_count": 36,
   "id": "f9769fe1",
   "metadata": {},
   "outputs": [],
   "source": [
    "resultatFinal.write\n",
    ".format(\"csv\")\n",
    "  .option(\"header\", \"true\")  // Inclure l'en-tête dans le fichier CSV\n",
    "  .save(\"result\")"
   ]
  },
  {
   "cell_type": "code",
   "execution_count": 4,
   "id": "a89ee65e",
   "metadata": {},
   "outputs": [
    {
     "data": {
      "text/plain": [
       "lastException = null\n",
       "resultcontinent = [continent: string, avgTimesRepeated: double ... 11 more fields]\n"
      ]
     },
     "metadata": {},
     "output_type": "display_data"
    },
    {
     "data": {
      "text/plain": [
       "[continent: string, avgTimesRepeated: double ... 11 more fields]"
      ]
     },
     "execution_count": 4,
     "metadata": {},
     "output_type": "execute_result"
    }
   ],
   "source": [
    "val resultcontinent= resultatFinal.groupBy(\"continent\").agg(avg(\"avgTimesRepeated\").alias(\"avgTimesRepeated\"),\n",
    "                        avg(\"avgacousticness\").alias(\"avgacousticness\"),\n",
    "                        avg(\"avgdanceability\").alias(\"avgdanceability\"),\n",
    "                        avg(\"avgenergy\").alias(\"avgenergy\"),\n",
    "                        avg(\"avginstrumentalness\").alias(\"avginstrumentalness\"),\n",
    "                        avg(\"avgkey\").alias(\"avgkey\"),\n",
    "                        avg(\"avgliveness\").alias(\"avgliveness\"),\n",
    "                        avg(\"avgloudness\").alias(\"avgloudness\"),\n",
    "                        avg(\"avgmode\").alias(\"avgmode\"),\n",
    "                        avg(\"avgspeechness\").alias(\"avgspeechness\"),\n",
    "                        avg(\"avgtempo\").alias(\"avgtempo\"),\n",
    "                        avg(\"avgvalence\").alias(\"avgvalence\"))"
   ]
  },
  {
   "cell_type": "code",
   "execution_count": 5,
   "id": "f49849d4",
   "metadata": {},
   "outputs": [],
   "source": [
    "resultcontinent.write\n",
    ".format(\"csv\")\n",
    "  .option(\"header\", \"true\")  // Inclure l'en-tête dans le fichier CSV\n",
    "  .save(\"resultcontinent\")"
   ]
  },
  {
   "cell_type": "code",
   "execution_count": null,
   "id": "ea7ada53",
   "metadata": {},
   "outputs": [],
   "source": []
  }
 ],
 "metadata": {
  "kernelspec": {
   "display_name": "Apache Toree - Scala",
   "language": "scala",
   "name": "apache_toree_scala"
  },
  "language_info": {
   "codemirror_mode": "text/x-scala",
   "file_extension": ".scala",
   "mimetype": "text/x-scala",
   "name": "scala",
   "pygments_lexer": "scala",
   "version": "2.12.15"
  }
 },
 "nbformat": 4,
 "nbformat_minor": 5
}
